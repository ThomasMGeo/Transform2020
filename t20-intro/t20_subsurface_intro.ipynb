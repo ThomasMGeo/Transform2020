{
  "nbformat": 4,
  "nbformat_minor": 0,
  "metadata": {
    "colab": {
      "name": "t20-subsurface-intro.ipynb",
      "provenance": [],
      "collapsed_sections": []
    },
    "kernelspec": {
      "name": "python3",
      "display_name": "Python 3"
    }
  },
  "cells": [
    {
      "cell_type": "markdown",
      "metadata": {
        "id": "oFCuwz_4uGs8",
        "colab_type": "text"
      },
      "source": [
        "# Welcome future python subsurface professionals! (yes, you!)"
      ]
    },
    {
      "cell_type": "markdown",
      "metadata": {
        "id": "Mwi6AS6vUyug",
        "colab_type": "text"
      },
      "source": [
        "\n",
        "< Operational note: This works best in Firefox or Chrome, do NOT use edge or internet expolorer, netscape naviator, AOL, etc. >"
      ]
    },
    {
      "cell_type": "markdown",
      "metadata": {
        "id": "BaVKCLh5uXce",
        "colab_type": "text"
      },
      "source": [
        "Welcome to Transform 2020! This does not require an install (!!!) but it does require a google account. You can also run this in Anaconda, but I am not going to cover that in this course (and this notebook is not tested for that).\n",
        "\n",
        "## Breaks\n",
        "We will have two breaks at roughly 45 minutes in and 1.5 hours in. \n",
        "\n",
        "## Slack channel\n",
        "If you have questions, please ask in the slack! I will not be monitoring the slack channel, but there will be a few pro's from SWUNG there to assist."
      ]
    },
    {
      "cell_type": "markdown",
      "metadata": {
        "id": "2W5AB-JQn3Ni",
        "colab_type": "text"
      },
      "source": [
        "# Welcome to Colab!"
      ]
    },
    {
      "cell_type": "markdown",
      "metadata": {
        "id": "KSo8rmVJn64H",
        "colab_type": "text"
      },
      "source": [
        "Google Colab is a online, web hosted way to work through Jupyter Notebooks. They have a pro version that adds larger GPU's and more RAM for $10 USD a month. For today, the free version will work great. It can be accessed on any computer with an internet connection and a modern browser. "
      ]
    },
    {
      "cell_type": "markdown",
      "metadata": {
        "id": "jtErR49tokrv",
        "colab_type": "text"
      },
      "source": [
        "#### Mounting Colab to Google Drive"
      ]
    },
    {
      "cell_type": "markdown",
      "metadata": {
        "id": "LqWdS9XLoqzK",
        "colab_type": "text"
      },
      "source": [
        "The hardest part of Colab is getting the google drive mounted and finding your file locations. Google does this to keep your data 'safe' but does have some drawbacks. Because it is an ipython notebook, you can use the tricks of cd, ls, pwd, and others to navigate to your folder of interest."
      ]
    },
    {
      "cell_type": "code",
      "metadata": {
        "id": "0IaXEYYmVDwE",
        "colab_type": "code",
        "colab": {}
      },
      "source": [
        "from google.colab import drive\n",
        "drive.mount('/content/gdrive')"
      ],
      "execution_count": 0,
      "outputs": []
    },
    {
      "cell_type": "markdown",
      "metadata": {
        "id": "-REECfeDr0J2",
        "colab_type": "text"
      },
      "source": [
        "\"ls\" is the list command. "
      ]
    },
    {
      "cell_type": "code",
      "metadata": {
        "id": "7NKzZpdvqgPy",
        "colab_type": "code",
        "colab": {}
      },
      "source": [
        "ls"
      ],
      "execution_count": 0,
      "outputs": []
    },
    {
      "cell_type": "markdown",
      "metadata": {
        "id": "aK9_6-7WqxvP",
        "colab_type": "text"
      },
      "source": [
        "My folder name is t20-intro, you might need to change it to match your folder name."
      ]
    },
    {
      "cell_type": "code",
      "metadata": {
        "id": "RMcLerOAV3As",
        "colab_type": "code",
        "colab": {}
      },
      "source": [
        "cd gdrive/My Drive/t20-intro/"
      ],
      "execution_count": 0,
      "outputs": []
    },
    {
      "cell_type": "markdown",
      "metadata": {
        "id": "nxUJh728slXR",
        "colab_type": "text"
      },
      "source": [
        "pwd is the command to display the path to your location"
      ]
    },
    {
      "cell_type": "code",
      "metadata": {
        "id": "YF6EChXoqsOn",
        "colab_type": "code",
        "colab": {}
      },
      "source": [
        "pwd"
      ],
      "execution_count": 0,
      "outputs": []
    },
    {
      "cell_type": "code",
      "metadata": {
        "id": "TP8oUiEuqs4m",
        "colab_type": "code",
        "colab": {}
      },
      "source": [
        "ls"
      ],
      "execution_count": 0,
      "outputs": []
    },
    {
      "cell_type": "markdown",
      "metadata": {
        "id": "uILo8W4YtxjE",
        "colab_type": "text"
      },
      "source": [
        " Unix cheet sheet is [here](https://files.fosswire.com/2007/08/fwunixref.pdf). I am not going to go into detail but it's good to know a few key ones!"
      ]
    },
    {
      "cell_type": "markdown",
      "metadata": {
        "id": "4um_4X8sveRb",
        "colab_type": "text"
      },
      "source": [
        "# Python!"
      ]
    },
    {
      "cell_type": "markdown",
      "metadata": {
        "id": "zBvP7_H6vg1t",
        "colab_type": "text"
      },
      "source": [
        "Finally! Let's get into why y'all are here. Python has some basic math functions built in:\n",
        "\n"
      ]
    },
    {
      "cell_type": "code",
      "metadata": {
        "id": "SeHE2vuivgU-",
        "colab_type": "code",
        "colab": {}
      },
      "source": [
        "2 + 2"
      ],
      "execution_count": 0,
      "outputs": []
    },
    {
      "cell_type": "code",
      "metadata": {
        "id": "7mUyYRnSwLVk",
        "colab_type": "code",
        "colab": {}
      },
      "source": [
        "3 * 11.1"
      ],
      "execution_count": 0,
      "outputs": []
    },
    {
      "cell_type": "code",
      "metadata": {
        "id": "rSblAT5ZXvqJ",
        "colab_type": "code",
        "colab": {}
      },
      "source": [
        "print('hello!')"
      ],
      "execution_count": 0,
      "outputs": []
    },
    {
      "cell_type": "code",
      "metadata": {
        "id": "sIgyq5Z1wUru",
        "colab_type": "code",
        "colab": {}
      },
      "source": [
        "a = 5\n",
        "b = 2.1\n",
        "\n",
        "a * b "
      ],
      "execution_count": 0,
      "outputs": []
    },
    {
      "cell_type": "code",
      "metadata": {
        "id": "AsfLgcpcwkn8",
        "colab_type": "code",
        "colab": {}
      },
      "source": [
        "# This is a code cell, but a # makes it a comment\n",
        "2 * 2 + 3"
      ],
      "execution_count": 0,
      "outputs": []
    },
    {
      "cell_type": "markdown",
      "metadata": {
        "id": "9rsYooIkER0-",
        "colab_type": "text"
      },
      "source": [
        "python indexes 0,1,2,3 not 1,2,3,4 (like matlab)"
      ]
    },
    {
      "cell_type": "code",
      "metadata": {
        "id": "OCVtTVdxD5G7",
        "colab_type": "code",
        "colab": {}
      },
      "source": [
        "c = 'rad'\n",
        "c[0]"
      ],
      "execution_count": 0,
      "outputs": []
    },
    {
      "cell_type": "code",
      "metadata": {
        "id": "_y8ctXQXYWYH",
        "colab_type": "code",
        "colab": {}
      },
      "source": [
        "c[1]"
      ],
      "execution_count": 0,
      "outputs": []
    },
    {
      "cell_type": "markdown",
      "metadata": {
        "id": "Uj8t-AXB0nNn",
        "colab_type": "text"
      },
      "source": [
        "There are whole classes devoted to basic python syntax, loops, functions, etc. This class is to just get you up and running with some key basics that can help with basic projects. Join us on the slack for some pointers!"
      ]
    },
    {
      "cell_type": "markdown",
      "metadata": {
        "id": "hcKP1Y8ZxUEB",
        "colab_type": "text"
      },
      "source": [
        "## Importing and Using Packages"
      ]
    },
    {
      "cell_type": "markdown",
      "metadata": {
        "id": "V9qgHqx_P143",
        "colab_type": "text"
      },
      "source": [
        "Packages are similar to Matlab toolboxes. You import them in a line of code in your notebook. "
      ]
    },
    {
      "cell_type": "code",
      "metadata": {
        "id": "cPWwh2HXxVmy",
        "colab_type": "code",
        "colab": {}
      },
      "source": [
        "import matplotlib.pyplot as plt"
      ],
      "execution_count": 0,
      "outputs": []
    },
    {
      "cell_type": "markdown",
      "metadata": {
        "id": "1cjE5MKsRE6D",
        "colab_type": "text"
      },
      "source": [
        "Ok, so we are telling the computer everytime we want to use the pyplot function from matplotlib, and we are going to call it plt as it's way shorter. Programmers are lazy. "
      ]
    },
    {
      "cell_type": "code",
      "metadata": {
        "id": "S3sAJN_wRCX2",
        "colab_type": "code",
        "colab": {}
      },
      "source": [
        "import pandas as pd\n",
        "import numpy as np"
      ],
      "execution_count": 0,
      "outputs": []
    },
    {
      "cell_type": "markdown",
      "metadata": {
        "id": "K-aVqCH6yMQe",
        "colab_type": "text"
      },
      "source": [
        "Importing a few others that I use in (almost) every project. We can import them normally becuase Google pre-loaded them. Google does not pre-load everything that you need, sometimes you might need to install it.  ~*warning* ~ not every package can easily be imported in Colab. I have not figured out what makes some go and some not. But stats and plotting is usually pretty safe. Niche, one off, old, academic code, less so. "
      ]
    },
    {
      "cell_type": "code",
      "metadata": {
        "id": "-GVjJfbUxo7R",
        "colab_type": "code",
        "colab": {}
      },
      "source": [
        "!pip install lasio # the ! before the pip is important, also this is a shell command, not a python one"
      ],
      "execution_count": 0,
      "outputs": []
    },
    {
      "cell_type": "markdown",
      "metadata": {
        "id": "hWaC0LxVyWQW",
        "colab_type": "text"
      },
      "source": [
        "Just installed the lasio package using pip. Lasio is a .las file imput and output reader. It's a great way to read in a .las file (well logs, not LiDAR) to use in python. After installing it, you still need to import it. The github for lasio is [here](https://github.com/kinverarity1/lasio)"
      ]
    },
    {
      "cell_type": "code",
      "metadata": {
        "id": "0qpm6NlMyQsD",
        "colab_type": "code",
        "colab": {}
      },
      "source": [
        "import lasio"
      ],
      "execution_count": 0,
      "outputs": []
    },
    {
      "cell_type": "markdown",
      "metadata": {
        "id": "clpopEZGziBZ",
        "colab_type": "text"
      },
      "source": [
        "There are hundreds of packages, not all of them work with Colab. We will install and import packages throughout the notebook."
      ]
    },
    {
      "cell_type": "markdown",
      "metadata": {
        "id": "BrTxJiTm2pyo",
        "colab_type": "text"
      },
      "source": [
        "### Wikipedia Data and Pandas"
      ]
    },
    {
      "cell_type": "markdown",
      "metadata": {
        "id": "ZJuMOLOA2_7r",
        "colab_type": "text"
      },
      "source": [
        "Let's import a csv (comma seperated variable plain text (ASCII) file) into Pandas. Pandas is an awesome way to slice and dice data. Data is stored in data frames (df) in the next cell. When you see examples online, usually df is the naming convention. But you can name it anything! Pandas has nothing to do with the nice animals, but everything to do with panelled data.\n",
        "\n"
      ]
    },
    {
      "cell_type": "markdown",
      "metadata": {
        "id": "KGTTml4Na_c8",
        "colab_type": "text"
      },
      "source": [
        "This table is from Wikipedia, from [here](https://en.wikipedia.org/wiki/List_of_geothermal_power_stations_in_the_United_States). I used https://wikitable2csv.ggor.de/ to make a csv from the table! Pretty nifty. "
      ]
    },
    {
      "cell_type": "code",
      "metadata": {
        "id": "GqFcMlw52uRU",
        "colab_type": "code",
        "colab": {}
      },
      "source": [
        "df = pd.read_csv('GeothermalPowerPlants_wikipedia.csv')"
      ],
      "execution_count": 0,
      "outputs": []
    },
    {
      "cell_type": "markdown",
      "metadata": {
        "id": "moOvCOfr4lCc",
        "colab_type": "text"
      },
      "source": [
        "Use the .head methodm to show the first few rows of the data frame. Normally you get 5 rows, but you can pass any number. In the next line I did 3."
      ]
    },
    {
      "cell_type": "code",
      "metadata": {
        "id": "94Iq9qo-4hvI",
        "colab_type": "code",
        "colab": {}
      },
      "source": [
        "df.head(3)"
      ],
      "execution_count": 0,
      "outputs": []
    },
    {
      "cell_type": "code",
      "metadata": {
        "id": "XhmQ5s8LKqfv",
        "colab_type": "code",
        "colab": {}
      },
      "source": [
        "df.shape # Just to see how big it is"
      ],
      "execution_count": 0,
      "outputs": []
    },
    {
      "cell_type": "markdown",
      "metadata": {
        "id": "-RLakmS1xigf",
        "colab_type": "text"
      },
      "source": [
        "Congrats! We just made a pandas data frame. Let's dig in."
      ]
    },
    {
      "cell_type": "markdown",
      "metadata": {
        "id": "rm5Nheg1zSQD",
        "colab_type": "text"
      },
      "source": [
        "Let's drop the Ref column, and change the names of two of the columns so they are easier to call. We will also remove the commas from the dataframe. We are going to make a dictionary of the renamed columns first to define what we want to rename them to. "
      ]
    },
    {
      "cell_type": "code",
      "metadata": {
        "id": "0TEXncBWeqE1",
        "colab_type": "code",
        "colab": {}
      },
      "source": [
        "col_dict = {\"Capacity(MW)\": \"Capacity_MW\", \"Annual Generation(GWh)\": \"AG_GWh\"} # dictionary\n",
        "\n",
        "df = df.rename(columns=col_dict) # We pass this dictionary to the rename method. It wont change columns not in the dictionary.\n",
        "df = df.drop(columns=['Ref'])\n",
        "df.replace(',','', regex=True, inplace=True)\n",
        "df.head()"
      ],
      "execution_count": 0,
      "outputs": []
    },
    {
      "cell_type": "code",
      "metadata": {
        "id": "cTIu2bXT_7tu",
        "colab_type": "code",
        "colab": {}
      },
      "source": [
        "df.Capacity_MW.values"
      ],
      "execution_count": 0,
      "outputs": []
    },
    {
      "cell_type": "markdown",
      "metadata": {
        "id": "T2Z4qKxx_Bng",
        "colab_type": "text"
      },
      "source": [
        "Two of these are problems, with [note 2,3] after the numbers, and we just want the numbers! A hint about this is dtype=object, and not int64"
      ]
    },
    {
      "cell_type": "code",
      "metadata": {
        "id": "NLJ1jrpp9FoV",
        "colab_type": "code",
        "colab": {}
      },
      "source": [
        "# Split on the space, taking the values before the space\n",
        "df.Capacity_MW = df.Capacity_MW.str.split(r\" *\", expand=True)[0] # splitting on the space delimiter \n",
        "df.Capacity_MW = pd.to_numeric(df.Capacity_MW) # Changing the type to numeric\n",
        "df.Capacity_MW.values"
      ],
      "execution_count": 0,
      "outputs": []
    },
    {
      "cell_type": "markdown",
      "metadata": {
        "id": "weldU2pAAcNr",
        "colab_type": "text"
      },
      "source": [
        "New column, lets check out AG_GWh"
      ]
    },
    {
      "cell_type": "code",
      "metadata": {
        "id": "i6UspVgMAtrb",
        "colab_type": "code",
        "colab": {}
      },
      "source": [
        "df.AG_GWh.head() # the head(2) comment is just to show the first 2 "
      ],
      "execution_count": 0,
      "outputs": []
    },
    {
      "cell_type": "markdown",
      "metadata": {
        "id": "BDukOqnhA1mX",
        "colab_type": "text"
      },
      "source": [
        "Same problem! Let's remove the years from this."
      ]
    },
    {
      "cell_type": "code",
      "metadata": {
        "id": "JduhCKOYAy0P",
        "colab_type": "code",
        "colab": {}
      },
      "source": [
        "df.AG_GWh = df.AG_GWh.str.split(r\" *\", expand=True)[0]\n",
        "df.AG_GWh = pd.to_numeric(df.AG_GWh)\n",
        "df.AG_GWh.values"
      ],
      "execution_count": 0,
      "outputs": []
    },
    {
      "cell_type": "code",
      "metadata": {
        "id": "JtC5a2q-A33o",
        "colab_type": "code",
        "colab": {}
      },
      "source": [
        "df.head()"
      ],
      "execution_count": 0,
      "outputs": []
    },
    {
      "cell_type": "markdown",
      "metadata": {
        "id": "rW0zxyJfBAqy",
        "colab_type": "text"
      },
      "source": [
        "Let's break up that location column. First step is to split it out, to only get the decimal degrees."
      ]
    },
    {
      "cell_type": "code",
      "metadata": {
        "id": "5QITDFEzNMMF",
        "colab_type": "code",
        "colab": {}
      },
      "source": [
        "oldloc = df.Location[0]\n",
        "oldloc"
      ],
      "execution_count": 0,
      "outputs": []
    },
    {
      "cell_type": "markdown",
      "metadata": {
        "id": "4iQDSeNRNPMx",
        "colab_type": "text"
      },
      "source": [
        "Wow, that is a gross string, unicode and all. Let's see how we can parse out the good stuff. "
      ]
    },
    {
      "cell_type": "code",
      "metadata": {
        "id": "8BtVjdRIA9Ni",
        "colab_type": "code",
        "colab": {}
      },
      "source": [
        "df.LocationDD = df.Location.str.split(r\" / \", expand=True)[1] # note the new column we are making\n",
        "df.LocationDD.head()"
      ],
      "execution_count": 0,
      "outputs": []
    },
    {
      "cell_type": "markdown",
      "metadata": {
        "id": "4cDKk8-QBOUX",
        "colab_type": "text"
      },
      "source": [
        "Let's seperate decimal degrees into lat and long, and drop the degrees symbol, and N and W. Also convert it to a number from an object. "
      ]
    },
    {
      "cell_type": "code",
      "metadata": {
        "id": "02fAjBIXBFjH",
        "colab_type": "code",
        "colab": {}
      },
      "source": [
        "# Splitting the decimal degree column, on the space and seperating out the lat's and long's\n",
        "\n",
        "df.latDD_N  = df.LocationDD.str.split(r\" *\", expand=True)[0] \n",
        "df.longDD_W = df.LocationDD.str.split(r\" *\", expand=True)[1] #\n",
        "\n",
        "df.latDD_N.replace('°N','', regex=True, inplace=True) # replacing the degree symbol with a space\n",
        "df.longDD_W.replace('°W','', regex=True, inplace=True)\n",
        "\n",
        "df.latDD_N.values # displaying the values"
      ],
      "execution_count": 0,
      "outputs": []
    },
    {
      "cell_type": "markdown",
      "metadata": {
        "id": "p0L1SzlRBd9A",
        "colab_type": "text"
      },
      "source": [
        "Whoa! Got some unicode going on, lets drop that as well, and convert to a number, and make west negative. "
      ]
    },
    {
      "cell_type": "code",
      "metadata": {
        "id": "JnJ1SaWdBbor",
        "colab_type": "code",
        "colab": {}
      },
      "source": [
        "df.latDD_N.replace('\\ufeff','', regex=True, inplace=True) # doing more replacing\n",
        "df.longDD_W.replace('\\ufeff','', regex=True, inplace=True)\n",
        "\n",
        "df['latDD_N'] = pd.to_numeric(df.latDD_N)\n",
        "df['longDD_W'] = pd.to_numeric(df.longDD_W)\n",
        "\n",
        "df.latDD_N = pd.to_numeric(df.latDD_N)\n",
        "df.longDD_W = pd.to_numeric(df.longDD_W)\n",
        "\n",
        "# Because it is in the west, easier to put a negative\n",
        "df.longDD_W = df.longDD_W*-1 \n",
        "df.longDD_W.values"
      ],
      "execution_count": 0,
      "outputs": []
    },
    {
      "cell_type": "markdown",
      "metadata": {
        "id": "cMThBQLtOUbr",
        "colab_type": "text"
      },
      "source": [
        "Quick QC plot of the new lat and longs"
      ]
    },
    {
      "cell_type": "code",
      "metadata": {
        "id": "0TEnLNQsOXYs",
        "colab_type": "code",
        "colab": {}
      },
      "source": [
        "plt.scatter(df.longDD_W.values, df.latDD_N)"
      ],
      "execution_count": 0,
      "outputs": []
    },
    {
      "cell_type": "markdown",
      "metadata": {
        "id": "5T3wuhsqOdb-",
        "colab_type": "text"
      },
      "source": [
        "Looks about right, the one in the far lower left is Big Island, Hawai'i, [Puna Geothermal Ventures](https://www.hawaiianelectric.com/clean-energy-hawaii/our-clean-energy-portfolio/renewable-energy-sources/geothermal/puna-geothermal-venture-(pgv))"
      ]
    },
    {
      "cell_type": "code",
      "metadata": {
        "id": "EUwJTZIgBkmf",
        "colab_type": "code",
        "colab": {}
      },
      "source": [
        "df.head()"
      ],
      "execution_count": 0,
      "outputs": []
    },
    {
      "cell_type": "markdown",
      "metadata": {
        "id": "LaNTG872YaUm",
        "colab_type": "text"
      },
      "source": [
        "You can use groupby to pull in all values. Summing the lat and long (or years!) does not make any physical sense, but cool to see the capacity. "
      ]
    },
    {
      "cell_type": "code",
      "metadata": {
        "id": "V2oGWhDXYMKT",
        "colab_type": "code",
        "colab": {}
      },
      "source": [
        "df.groupby(['State']).sum()"
      ],
      "execution_count": 0,
      "outputs": []
    },
    {
      "cell_type": "markdown",
      "metadata": {
        "id": "ZrEtdw90QisN",
        "colab_type": "text"
      },
      "source": [
        "Let's just display the columns that make sense:"
      ]
    },
    {
      "cell_type": "code",
      "metadata": {
        "id": "kQW8pSveQYo4",
        "colab_type": "code",
        "colab": {}
      },
      "source": [
        "df[['State','Capacity_MW','AG_GWh']].groupby(['State']).sum()"
      ],
      "execution_count": 0,
      "outputs": []
    },
    {
      "cell_type": "code",
      "metadata": {
        "id": "LANxo9t1ZASo",
        "colab_type": "code",
        "colab": {}
      },
      "source": [
        "df.groupby(['Year']).sum()"
      ],
      "execution_count": 0,
      "outputs": []
    },
    {
      "cell_type": "markdown",
      "metadata": {
        "id": "H25tgy1WkudV",
        "colab_type": "text"
      },
      "source": [
        "If you want to know how many times each state was counted, you can call that directly:"
      ]
    },
    {
      "cell_type": "code",
      "metadata": {
        "id": "jw9mix_Cksov",
        "colab_type": "code",
        "colab": {}
      },
      "source": [
        "df.Year.value_counts()"
      ],
      "execution_count": 0,
      "outputs": []
    },
    {
      "cell_type": "markdown",
      "metadata": {
        "id": "uzwHCrWRCsDm",
        "colab_type": "text"
      },
      "source": [
        "### QC plots with Matplotlib"
      ]
    },
    {
      "cell_type": "markdown",
      "metadata": {
        "id": "y5Wk-ZbKCzx3",
        "colab_type": "text"
      },
      "source": [
        "Matplotlib is a great plotting package, and the gold standard for a lot of projects. They have a ton of examples [here](https://matplotlib.org/3.1.1/gallery/index.html). I won't be going into detail on how to use matplotlib, but would be happy to answer questions after the webinar. When I get stuck, I typically check out the example webpage and try to recreate it.\n",
        "\n",
        "Matplotlib can get really verbose, and there are other packages that are better for interactive graphics. "
      ]
    },
    {
      "cell_type": "code",
      "metadata": {
        "id": "mvv-go-ZCwyU",
        "colab_type": "code",
        "colab": {}
      },
      "source": [
        "plt.figure(figsize=(8,6)) #calling the figure size\n",
        "plt.bar(df.State, df.Capacity_MW) # Making a bar plot with state on the X axis, capacity on the Y\n",
        "plt.xlabel('States', size=16) # Just a x axis label, size 16\n",
        "plt.ylabel('Capacity in MW', size = 16)\n",
        "plt.grid(True, axis='y') # turning on grid lines, only for the Y axis\n",
        "\n",
        "\n",
        "# You can drag and drop the figure to save it, or uncomment the next line\n",
        "# plt.savefig('figurename.png', dpi=300) \n"
      ],
      "execution_count": 0,
      "outputs": []
    },
    {
      "cell_type": "markdown",
      "metadata": {
        "id": "N4akMX1EDjpg",
        "colab_type": "text"
      },
      "source": [
        "Let's make a scatter plot with similar data"
      ]
    },
    {
      "cell_type": "code",
      "metadata": {
        "id": "UmiOGyBiDdzC",
        "colab_type": "code",
        "colab": {}
      },
      "source": [
        "plt.figure(figsize=(8,6))\n",
        "plt.scatter(df.Year.values, df.Capacity_MW.values, s=150, color='green', alpha=0.3 ) \n",
        "plt.grid(True)\n",
        "\n",
        "plt.xlabel('Year', size=16)\n",
        "plt.ylabel('Capacity in MW', size = 16)"
      ],
      "execution_count": 0,
      "outputs": []
    },
    {
      "cell_type": "code",
      "metadata": {
        "id": "nEjwQncnuxiT",
        "colab_type": "code",
        "colab": {}
      },
      "source": [
        ""
      ],
      "execution_count": 0,
      "outputs": []
    },
    {
      "cell_type": "markdown",
      "metadata": {
        "id": "u-F0Q-NoEIbI",
        "colab_type": "text"
      },
      "source": [
        "This size is wrong on the bubble, play around with the plot to find the right size. "
      ]
    },
    {
      "cell_type": "code",
      "metadata": {
        "id": "xVlVGiQsDpgM",
        "colab_type": "code",
        "colab": {}
      },
      "source": [
        "plt.figure(figsize=(8,6))\n",
        "plt.scatter(df.Year, df.Capacity_MW, s=500 ) # hint look here\n",
        "plt.grid(True)\n",
        "plt.yscale('log') # Play around with turning this on and off\n",
        "\n",
        "\n",
        "plt.xlabel('Year', size=16)\n",
        "plt.ylabel('Capacity in MW', size = 16)"
      ],
      "execution_count": 0,
      "outputs": []
    },
    {
      "cell_type": "markdown",
      "metadata": {
        "id": "DDEdYs8tFtD0",
        "colab_type": "text"
      },
      "source": [
        "If you think having a log axis works better with this data. Spend 5-10 minutes during the break changing some variables, and try to change the color in the scatter plot. Next code cell is supposed to be empty."
      ]
    },
    {
      "cell_type": "code",
      "metadata": {
        "id": "td78Hs8qd0Lm",
        "colab_type": "code",
        "colab": {}
      },
      "source": [
        ""
      ],
      "execution_count": 0,
      "outputs": []
    },
    {
      "cell_type": "markdown",
      "metadata": {
        "id": "Mqa6ombdG_s7",
        "colab_type": "text"
      },
      "source": [
        "### Break #1!\n",
        "\n"
      ]
    },
    {
      "cell_type": "markdown",
      "metadata": {
        "id": "km-2ZX7pF_h2",
        "colab_type": "text"
      },
      "source": [
        "# Well log input and output using lasio"
      ]
    },
    {
      "cell_type": "markdown",
      "metadata": {
        "id": "3xS1PNakIi-g",
        "colab_type": "text"
      },
      "source": [
        "lasio (.las input and output) is one of my all time favorite packages. It's updated often, and it works 99.5% of the time with .las files (well logs, not LiDAR data). The repo is [here](https://github.com/kinverarity1/lasio) on github. "
      ]
    },
    {
      "cell_type": "code",
      "metadata": {
        "id": "f7E2EqpeIic2",
        "colab_type": "code",
        "colab": {}
      },
      "source": [
        "las = lasio.read('4900722147_722147B.las')"
      ],
      "execution_count": 0,
      "outputs": []
    },
    {
      "cell_type": "markdown",
      "metadata": {
        "id": "Txaa55DxKDrr",
        "colab_type": "text"
      },
      "source": [
        "We just read in a las file! Let's do a quick quaility control, and make some plots."
      ]
    },
    {
      "cell_type": "code",
      "metadata": {
        "id": "hHOhO8R3Vq-E",
        "colab_type": "code",
        "colab": {}
      },
      "source": [
        "dir(las)"
      ],
      "execution_count": 0,
      "outputs": []
    },
    {
      "cell_type": "markdown",
      "metadata": {
        "id": "SBR-V203Vvbk",
        "colab_type": "text"
      },
      "source": [
        "So there is a lot of stuff going on with the las object we just created. Which is awesome! But can be daunting to get into what you are looking for."
      ]
    },
    {
      "cell_type": "code",
      "metadata": {
        "id": "ZkTyhx2WJ-ed",
        "colab_type": "code",
        "colab": {}
      },
      "source": [
        "las.curves"
      ],
      "execution_count": 0,
      "outputs": []
    },
    {
      "cell_type": "markdown",
      "metadata": {
        "id": "k1QvFJ5pb3Yf",
        "colab_type": "text"
      },
      "source": [
        "Wow, this well has a lot of curves! OK, we are going to make a data frame for the data in the .las file. This will behave really similar to the previous data frame"
      ]
    },
    {
      "cell_type": "code",
      "metadata": {
        "id": "07Vv8C-3KFWj",
        "colab_type": "code",
        "colab": {}
      },
      "source": [
        "data = las.df() # This time we named the dataframe data and not df\n",
        "data.head()"
      ],
      "execution_count": 0,
      "outputs": []
    },
    {
      "cell_type": "markdown",
      "metadata": {
        "id": "oFV_WvFJKegu",
        "colab_type": "text"
      },
      "source": [
        "Scroll around! If you want to get a handle on stats of your well curves, using the describe function on a dataframe is awesome. "
      ]
    },
    {
      "cell_type": "code",
      "metadata": {
        "id": "o54RFQxzPeoK",
        "colab_type": "code",
        "colab": {}
      },
      "source": [
        "data.to_csv('well_data.csv') # just saved it out!"
      ],
      "execution_count": 0,
      "outputs": []
    },
    {
      "cell_type": "markdown",
      "metadata": {
        "id": "Edr96Ez9O3d7",
        "colab_type": "text"
      },
      "source": [
        "Once this is in a data frame, you can export the curve data as a csv! This can be used in excel, spotfire, matlab or any other program you are more familiar with. This alone saves tons of time! While I prefer python, I know it's not for everyone."
      ]
    },
    {
      "cell_type": "code",
      "metadata": {
        "id": "MYIJvIteKatN",
        "colab_type": "code",
        "colab": {}
      },
      "source": [
        "data.describe()"
      ],
      "execution_count": 0,
      "outputs": []
    },
    {
      "cell_type": "markdown",
      "metadata": {
        "id": "GEZRBNCCYKfK",
        "colab_type": "text"
      },
      "source": [
        "If you want different percentiles in df.describe, you can pass those values"
      ]
    },
    {
      "cell_type": "code",
      "metadata": {
        "id": "8ATukdSaYD7Z",
        "colab_type": "code",
        "colab": {}
      },
      "source": [
        "data.describe(percentiles=[0.1, 0.5, 0.9])"
      ],
      "execution_count": 0,
      "outputs": []
    },
    {
      "cell_type": "markdown",
      "metadata": {
        "id": "F8fYijj0OxGd",
        "colab_type": "text"
      },
      "source": [
        "If you want to save out this table as a csv, you can do that in one line:"
      ]
    },
    {
      "cell_type": "code",
      "metadata": {
        "id": "ypBfvWdZOm67",
        "colab_type": "code",
        "colab": {}
      },
      "source": [
        "data.describe().to_csv(\"petro-stats.csv\")"
      ],
      "execution_count": 0,
      "outputs": []
    },
    {
      "cell_type": "code",
      "metadata": {
        "id": "hWf-Cn4qK5s8",
        "colab_type": "code",
        "colab": {}
      },
      "source": [
        "data.AHO10.min() # If you just want one of the stats"
      ],
      "execution_count": 0,
      "outputs": []
    },
    {
      "cell_type": "markdown",
      "metadata": {
        "id": "3xf9-P3pNA3H",
        "colab_type": "text"
      },
      "source": [
        "Let's use the quantile function to make some quick cutoffs (will be used in the future)."
      ]
    },
    {
      "cell_type": "code",
      "metadata": {
        "id": "RtkrAj0ULbrU",
        "colab_type": "code",
        "colab": {}
      },
      "source": [
        "lowGR = data.GR.quantile(.20)\n",
        "lowGR"
      ],
      "execution_count": 0,
      "outputs": []
    },
    {
      "cell_type": "code",
      "metadata": {
        "id": "FmND25DeME16",
        "colab_type": "code",
        "colab": {}
      },
      "source": [
        "highRES = data.AHO90.quantile(.95)\n",
        "highRES"
      ],
      "execution_count": 0,
      "outputs": []
    },
    {
      "cell_type": "markdown",
      "metadata": {
        "id": "epZJ6d08Pzfs",
        "colab_type": "text"
      },
      "source": [
        "Feel free to make your own cutoffs here!"
      ]
    },
    {
      "cell_type": "code",
      "metadata": {
        "id": "0Y7RJBGINS4q",
        "colab_type": "code",
        "colab": {}
      },
      "source": [
        ""
      ],
      "execution_count": 0,
      "outputs": []
    },
    {
      "cell_type": "markdown",
      "metadata": {
        "id": "_MJtiQniNmo5",
        "colab_type": "text"
      },
      "source": [
        "### Plotting up well log data"
      ]
    },
    {
      "cell_type": "code",
      "metadata": {
        "id": "Y8Bi0m4YNoNJ",
        "colab_type": "code",
        "colab": {}
      },
      "source": [
        "# Cross plot comparing GR to Deep Resistivity\n",
        "plt.figure(figsize=(5,4), dpi=100) # figure size and dpi you can set here\n",
        "plt.scatter(data.GR.values, data.AHO90.values, color='blue', marker='.', alpha=0.3)\n",
        "plt.yscale('log') #log scale for Y axis\n",
        "\n",
        "plt.grid(True)\n",
        "plt.xlabel('GR', size=16)\n",
        "plt.ylabel('Deep Resistivity', size=16)"
      ],
      "execution_count": 0,
      "outputs": []
    },
    {
      "cell_type": "code",
      "metadata": {
        "id": "qKQoCqthdhqM",
        "colab_type": "code",
        "colab": {}
      },
      "source": [
        "# lets make a histogram of the GR Curve, with 20 bins, in green\n",
        "plt.hist(data.GR.values, bins = 20, color='g', alpha = 0.5)\n",
        "plt.xlabel('GR', size=16)\n",
        "plt.ylabel('Count', size=16)"
      ],
      "execution_count": 0,
      "outputs": []
    },
    {
      "cell_type": "code",
      "metadata": {
        "id": "zL3qgjHoeZDm",
        "colab_type": "code",
        "colab": {}
      },
      "source": [
        "# line plot of the Gamma curve\n",
        "plt.figure(figsize=(4,8), dpi=100)\n",
        "plt.plot(data.GR.values, data.index, color='g')\n",
        "plt.ylabel('Depth in Feet', size=16)\n",
        "plt.ylim(2000,0)\n",
        "plt.grid(True)\n"
      ],
      "execution_count": 0,
      "outputs": []
    },
    {
      "cell_type": "markdown",
      "metadata": {
        "id": "VtSEUgGzzSXS",
        "colab_type": "text"
      },
      "source": [
        "Let's add a depth track for deep resistivity, a title and a few other additional widigits. Also we will use the well name for the title:"
      ]
    },
    {
      "cell_type": "code",
      "metadata": {
        "id": "HJvsTdb1_tOu",
        "colab_type": "code",
        "colab": {}
      },
      "source": [
        "las.header['Well'].WELL.value # we can pull the well name directly from the header"
      ],
      "execution_count": 0,
      "outputs": []
    },
    {
      "cell_type": "code",
      "metadata": {
        "colab_type": "code",
        "id": "gef-2TAez7E0",
        "colab": {}
      },
      "source": [
        "# line plot of the Gamma curve\n",
        "plt.figure(figsize=(6,7), dpi=100)\n",
        "\n",
        "plt.suptitle(las.header['Well'].WELL.value, size =16) # overall title\n",
        "\n",
        "plt.subplot(121) # if we are going to make two plots, matplotlib calls it a subplot\n",
        "plt.plot(data.GR.values, data.index, color='g') # the actual plot!\n",
        "plt.ylabel('Depth in Feet', size=16)\n",
        "plt.xlabel('API', size=16)\n",
        "plt.ylim(2000,0) # the limit is reversed to go deep down\n",
        "plt.grid(True) # Turning the grid on\n",
        "\n",
        "plt.subplot(122)\n",
        "plt.plot(data.AHO10.values, data.index, color='grey')\n",
        "plt.plot(data.AHO90.values, data.index, color='black')\n",
        "plt.xscale('log')\n",
        "plt.grid(True)\n",
        "plt.xlim(0.4,4000)\n",
        "plt.ylim(2000,0)\n",
        "plt.xlabel('OhmM', size=16)\n",
        "plt.tick_params(labelleft=False)  \n",
        "\n",
        "plt.savefig('awesome-plot.pdf', dpi=200)"
      ],
      "execution_count": 0,
      "outputs": []
    },
    {
      "cell_type": "markdown",
      "metadata": {
        "id": "EKrLZTmDgAmi",
        "colab_type": "text"
      },
      "source": [
        "Let's add a pay flag, remember the cutoffs we calcualted above? Let's use those. Using pythonic nomenclature, we will set a true flag, only when both conditions are met."
      ]
    },
    {
      "cell_type": "code",
      "metadata": {
        "id": "yNjH3HDSVsxj",
        "colab_type": "code",
        "colab": {}
      },
      "source": [
        "payMapper = (data.GR.values <= lowGR) & (data.AHO90.values >= highRES)\n",
        "np.unique(payMapper)"
      ],
      "execution_count": 0,
      "outputs": []
    },
    {
      "cell_type": "markdown",
      "metadata": {
        "id": "DHOnuLS5LpFS",
        "colab_type": "text"
      },
      "source": [
        "If we want to see how many true and false statements there are:"
      ]
    },
    {
      "cell_type": "code",
      "metadata": {
        "id": "wYVkxbLtLk3f",
        "colab_type": "code",
        "colab": {}
      },
      "source": [
        "np.bincount(payMapper) # your specific numbers might be a bit different"
      ],
      "execution_count": 0,
      "outputs": []
    },
    {
      "cell_type": "markdown",
      "metadata": {
        "id": "KP5-eLVgkHGH",
        "colab_type": "text"
      },
      "source": [
        "So the GR values have to be below the cutoff, and resistivity have to be above the cutoff."
      ]
    },
    {
      "cell_type": "code",
      "metadata": {
        "id": "ycGj3S7ZhN-j",
        "colab_type": "code",
        "colab": {}
      },
      "source": [
        "# line plot of the Gamma curve\n",
        "plt.figure(figsize=(5,8), dpi=100)\n",
        "\n",
        "plt.subplot(131) # the subplot changed to allow for 3 columns\n",
        "plt.plot(data.GR.values, data.index, color='g')\n",
        "plt.ylabel('Depth in Feet', size=16)\n",
        "plt.xlabel('API', size=16)\n",
        "plt.ylim(2000,0)\n",
        "plt.grid(True)\n",
        "\n",
        "plt.subplot(132) # this is the new pay flag plot\n",
        "plt.fill_between(payMapper, data.index, color='red') # used fill between, not plot\n",
        "plt.ylim(2000,0)\n",
        "plt.tick_params(labelleft=False)  \n",
        "plt.xlabel('Pay Flag', size=16)\n",
        "plt.grid(True)\n",
        "\n",
        "plt.subplot(133)\n",
        "plt.plot(data.AHO90.values, data.index, color='black')\n",
        "plt.xscale('log')\n",
        "plt.grid(True)\n",
        "plt.xlim(0.4,4000)\n",
        "plt.ylim(2000,0)\n",
        "plt.xlabel('OhmM', size=16)\n",
        "plt.tick_params(labelleft=False)  \n",
        "\n"
      ],
      "execution_count": 0,
      "outputs": []
    },
    {
      "cell_type": "markdown",
      "metadata": {
        "id": "js-ScaoWjGfb",
        "colab_type": "text"
      },
      "source": [
        "Little heavy on the pay flag! But a good template for future work. Can be used for any sort of cutoff, or statistical analysis. Mess around with a plot below!"
      ]
    },
    {
      "cell_type": "code",
      "metadata": {
        "id": "t4lvntH-U_Cy",
        "colab_type": "code",
        "colab": {}
      },
      "source": [
        ""
      ],
      "execution_count": 0,
      "outputs": []
    },
    {
      "cell_type": "markdown",
      "metadata": {
        "id": "SP_g0bcExVTG",
        "colab_type": "text"
      },
      "source": [
        "### Break #2"
      ]
    },
    {
      "cell_type": "markdown",
      "metadata": {
        "id": "Wf5zQpsWxSfy",
        "colab_type": "text"
      },
      "source": [
        "# Striplog"
      ]
    },
    {
      "cell_type": "markdown",
      "metadata": {
        "id": "Udd77REeyB_I",
        "colab_type": "text"
      },
      "source": [
        "Striplog is an awesome package for  basic graphic logs, stratigraphic information, formations, and other geo stuff. The github is [here](https://github.com/agile-geoscience/striplog). This heavily borrows from [tutorials](https://github.com/agile-geoscience/striplog/tree/master/tutorial)."
      ]
    },
    {
      "cell_type": "code",
      "metadata": {
        "id": "cEKJUNO8xUcj",
        "colab_type": "code",
        "colab": {}
      },
      "source": [
        "!pip install striplog"
      ],
      "execution_count": 0,
      "outputs": []
    },
    {
      "cell_type": "code",
      "metadata": {
        "id": "fv2DpRBSyzyE",
        "colab_type": "code",
        "colab": {}
      },
      "source": [
        "import striplog\n",
        "striplog.__version__ #if this fails, just re run the above cells"
      ],
      "execution_count": 0,
      "outputs": []
    },
    {
      "cell_type": "markdown",
      "metadata": {
        "id": "4aWoVp2-zUau",
        "colab_type": "text"
      },
      "source": [
        "### Lexicon"
      ]
    },
    {
      "cell_type": "markdown",
      "metadata": {
        "id": "3ePFvbCHTM_r",
        "colab_type": "text"
      },
      "source": [
        "Striplog has a lot of geowords already preloaded. Think sand, shale, mudstone, salt, etc:"
      ]
    },
    {
      "cell_type": "code",
      "metadata": {
        "id": "wfxPTtexy7B-",
        "colab_type": "code",
        "colab": {}
      },
      "source": [
        "from striplog import Lexicon\n",
        "print(Lexicon.__doc__)"
      ],
      "execution_count": 0,
      "outputs": []
    },
    {
      "cell_type": "code",
      "metadata": {
        "id": "qIl_q_WOzSw3",
        "colab_type": "code",
        "colab": {}
      },
      "source": [
        "lexicon = Lexicon.default()\n",
        "lexicon #scroll around!"
      ],
      "execution_count": 0,
      "outputs": []
    },
    {
      "cell_type": "code",
      "metadata": {
        "id": "wplg43oQzZsS",
        "colab_type": "code",
        "colab": {}
      },
      "source": [
        "lexicon.synonyms"
      ],
      "execution_count": 0,
      "outputs": []
    },
    {
      "cell_type": "markdown",
      "metadata": {
        "id": "OlhXQJhOT_Sm",
        "colab_type": "text"
      },
      "source": [
        "These abbrevations are common for mudlogs, there is a great turtorial on the github if you are interested in that"
      ]
    },
    {
      "cell_type": "code",
      "metadata": {
        "id": "YrVURU9VzsVr",
        "colab_type": "code",
        "colab": {}
      },
      "source": [
        "s = \"grysh gn ss w/ sp gy sh\"\n",
        "lexicon.expand_abbreviations(s)"
      ],
      "execution_count": 0,
      "outputs": []
    },
    {
      "cell_type": "markdown",
      "metadata": {
        "id": "chYLbMkC0IuB",
        "colab_type": "text"
      },
      "source": [
        "### Componet"
      ]
    },
    {
      "cell_type": "code",
      "metadata": {
        "id": "dVv1JwfczxvL",
        "colab_type": "code",
        "colab": {}
      },
      "source": [
        "from striplog import Component"
      ],
      "execution_count": 0,
      "outputs": []
    },
    {
      "cell_type": "code",
      "metadata": {
        "id": "UXZ8U4J_0NdL",
        "colab_type": "code",
        "colab": {}
      },
      "source": [
        "print(Component.__doc__)"
      ],
      "execution_count": 0,
      "outputs": []
    },
    {
      "cell_type": "markdown",
      "metadata": {
        "id": "rDdBXxnK0z0g",
        "colab_type": "text"
      },
      "source": [
        "We define a new rock with a Python dict object:"
      ]
    },
    {
      "cell_type": "code",
      "metadata": {
        "id": "afhsP2F_0WFj",
        "colab_type": "code",
        "colab": {}
      },
      "source": [
        "r = {'colour': 'grey',\n",
        "     'grainsize': 'vf-f',\n",
        "     'lithology': 'sand'}\n",
        "rock = Component(r)\n",
        "rock"
      ],
      "execution_count": 0,
      "outputs": []
    },
    {
      "cell_type": "markdown",
      "metadata": {
        "id": "6DCRYRW409Sx",
        "colab_type": "text"
      },
      "source": [
        "You can now call these componets!"
      ]
    },
    {
      "cell_type": "code",
      "metadata": {
        "id": "ngMolD_Q0yao",
        "colab_type": "code",
        "colab": {}
      },
      "source": [
        "rock['colour'] # who spelled this?! < Matt Hall/>"
      ],
      "execution_count": 0,
      "outputs": []
    },
    {
      "cell_type": "code",
      "metadata": {
        "id": "HBFGy1lw07YQ",
        "colab_type": "code",
        "colab": {}
      },
      "source": [
        "rock.summary()"
      ],
      "execution_count": 0,
      "outputs": []
    },
    {
      "cell_type": "code",
      "metadata": {
        "id": "I1EFdIy__Sue",
        "colab_type": "code",
        "colab": {}
      },
      "source": [
        "rock.summary(fmt=\"My rock: {lithology} ({colour}, {grainsize!u})\")"
      ],
      "execution_count": 0,
      "outputs": []
    },
    {
      "cell_type": "markdown",
      "metadata": {
        "id": "mqUDg4me_Zu-",
        "colab_type": "text"
      },
      "source": [
        "\n",
        "\n",
        "The formatting supports the usual s, r, and a:\n",
        "\n",
        "    s: str\n",
        "    r: repr\n",
        "    a: ascii\n",
        "\n",
        "Also some string functions:\n",
        "\n",
        "    u: str.upper\n",
        "    l: str.lower\n",
        "    c: str.capitalize\n",
        "    t: str.title\n",
        "\n",
        "And some numerical ones, for arrays of numbers:\n",
        "\n",
        "    + or ∑: np.sum\n",
        "    m or µ: np.mean\n",
        "    v: np.var\n",
        "    d: np.std\n",
        "    x: np.product\n",
        "\n"
      ]
    },
    {
      "cell_type": "markdown",
      "metadata": {
        "id": "_ZnIvwCOA3I8",
        "colab_type": "text"
      },
      "source": [
        "### Position"
      ]
    },
    {
      "cell_type": "markdown",
      "metadata": {
        "id": "i1HBWOlCBtwU",
        "colab_type": "text"
      },
      "source": [
        "Positions define points in the earth, like a top, but with uncertainty. You can define:\n",
        "\n",
        "    upper — the highest possible location\n",
        "    middle — the most likely location\n",
        "    lower — the lowest possible location\n",
        "    units — the units of measurement\n",
        "    x and y — the x and y location (these don't have uncertainty, sorry)\n",
        "    meta — a Python dictionary containing anything you want\n",
        "\n",
        "Positions don't have a 'way up'."
      ]
    },
    {
      "cell_type": "code",
      "metadata": {
        "id": "BVYJBakwAuno",
        "colab_type": "code",
        "colab": {}
      },
      "source": [
        "from striplog import Position\n",
        "print(Position.__doc__)"
      ],
      "execution_count": 0,
      "outputs": []
    },
    {
      "cell_type": "code",
      "metadata": {
        "id": "KiRIlnIGBy_H",
        "colab_type": "code",
        "colab": {}
      },
      "source": [
        "params = {'upper': 95,\n",
        "          'middle': 100,\n",
        "          'lower': 110,\n",
        "          'meta': {'kind': 'erosive', 'source': 'DOE'}\n",
        "          }\n",
        "\n",
        "p = Position(**params)\n",
        "p"
      ],
      "execution_count": 0,
      "outputs": []
    },
    {
      "cell_type": "markdown",
      "metadata": {
        "id": "YJe61woyB-dA",
        "colab_type": "text"
      },
      "source": [
        "Even if you don't give a middle, you can always get z: the central, most likely position:"
      ]
    },
    {
      "cell_type": "code",
      "metadata": {
        "id": "JdqZiqVJB2Ia",
        "colab_type": "code",
        "colab": {}
      },
      "source": [
        "params = {'upper': 75, 'lower': 85}\n",
        "p = Position(**params)\n",
        "p"
      ],
      "execution_count": 0,
      "outputs": []
    },
    {
      "cell_type": "code",
      "metadata": {
        "id": "aNY8bCnJB5pR",
        "colab_type": "code",
        "colab": {}
      },
      "source": [
        "p.z"
      ],
      "execution_count": 0,
      "outputs": []
    },
    {
      "cell_type": "markdown",
      "metadata": {
        "id": "BhRxFHfyD-IK",
        "colab_type": "text"
      },
      "source": [
        "## Let's make a striplog!"
      ]
    },
    {
      "cell_type": "markdown",
      "metadata": {
        "id": "J8J72ScVUgKr",
        "colab_type": "text"
      },
      "source": [
        "I just introduced a bunch of boring things about dictionaries, etc. What makes this nice once you get it setup, is you can make some templates for common formations and lithotypes. We are going to do a simple one from this [github](https://github.com/ThomasMGeo/CSV2Striplog)"
      ]
    },
    {
      "cell_type": "code",
      "metadata": {
        "id": "0XP_HqNOEA68",
        "colab_type": "code",
        "colab": {}
      },
      "source": [
        "from striplog import Lexicon, Decor, Component, Legend, Interval, Striplog"
      ],
      "execution_count": 0,
      "outputs": []
    },
    {
      "cell_type": "markdown",
      "metadata": {
        "id": "eZb0Cp87Xq0-",
        "colab_type": "text"
      },
      "source": [
        "\n",
        "### Make a legend\n",
        "\n",
        "Most of the stuff in the dicts you made were about display — so they are going to make Decor objects. A collection of Decors makes a Legend. A Legend determines how a striplog is displayed.\n",
        "\n",
        "First I'll make the components, since those are easy. I'll move 'train' into there too, since it is to do with the rocks, not the display. If it seems weird having 'train' in the Component (which is really supposed to be about direct descriptions of the rock, but the idea is that it's always the same for all specimens of that rock so it does fit here) then you could put it in data instead.\n"
      ]
    },
    {
      "cell_type": "code",
      "metadata": {
        "id": "pcknjhAREDMS",
        "colab_type": "code",
        "colab": {}
      },
      "source": [
        "facies = {\n",
        "    's': Component({'lithology': 'sandstone', 'train':'y'}),\n",
        "    'i': Component({'lithology': 'interbedded', 'train':'y'}),\n",
        "    'sh': Component({'lithology': 'shale', 'train':'y'}),\n",
        "}"
      ],
      "execution_count": 0,
      "outputs": []
    },
    {
      "cell_type": "markdown",
      "metadata": {
        "id": "E90MLt41QVum",
        "colab_type": "text"
      },
      "source": [
        "The next block of text could be less lines of code. The indenting is just a way to make it easier to read. Everyone has there own style of programming. We are just setting the decor of our future striplog plot. "
      ]
    },
    {
      "cell_type": "code",
      "metadata": {
        "id": "FAmbodZEGDub",
        "colab_type": "code",
        "colab": {}
      },
      "source": [
        "sandstone = Decor({\n",
        "    'component': facies['s'],\n",
        "    'colour': 'yellow',\n",
        "    'hatch': '.',\n",
        "    'width': '3',\n",
        "})\n",
        "\n",
        "interbedded = Decor({\n",
        "    'component': facies['i'],\n",
        "    'colour': 'darkseagreen',\n",
        "    'hatch': '--',\n",
        "    'width': '2',\n",
        "})\n",
        "\n",
        "shale = Decor({\n",
        "    'component': facies['sh'],\n",
        "    'colour': 'darkgray',\n",
        "    'hatch': '-',\n",
        "    'width': '1',\n",
        "})\n"
      ],
      "execution_count": 0,
      "outputs": []
    },
    {
      "cell_type": "code",
      "metadata": {
        "id": "vUkb8iyjEHsC",
        "colab_type": "code",
        "colab": {}
      },
      "source": [
        "legend = Legend([sandstone, interbedded, shale])\n",
        "legend"
      ],
      "execution_count": 0,
      "outputs": []
    },
    {
      "cell_type": "code",
      "metadata": {
        "id": "kdZINUZ9FJ8C",
        "colab_type": "code",
        "colab": {}
      },
      "source": [
        "strip = Striplog.from_csv('t20-lith.csv')\n",
        "strip[0]"
      ],
      "execution_count": 0,
      "outputs": []
    },
    {
      "cell_type": "markdown",
      "metadata": {
        "id": "lIafor_hZmOo",
        "colab_type": "text"
      },
      "source": [
        "\n",
        "##Deal with lithology¶\n",
        "\n",
        "The lithology has been turned into a component, but it's using the abbreviation... I can't figure out an elegant way to deal with this so, for now, we'll just loop over the striplog and fix it. We read the data item's lithology ('s' in the top layer), then look up the correct lithology name in our abbreviation dictionary, then add the new component in the proper place. Finally, we delete the data we had.\n"
      ]
    },
    {
      "cell_type": "code",
      "metadata": {
        "id": "cQAFZ8TvbCj6",
        "colab_type": "code",
        "colab": {}
      },
      "source": [
        "strip[0].data"
      ],
      "execution_count": 0,
      "outputs": []
    },
    {
      "cell_type": "code",
      "metadata": {
        "id": "2RfW9CKNN2jq",
        "colab_type": "code",
        "colab": {}
      },
      "source": [
        "for s in strip:\n",
        "    lith = s.data['lithology']\n",
        "    s.components = [facies[lith]]\n",
        "    s.data = {}\n",
        "# Run once, not twice"
      ],
      "execution_count": 0,
      "outputs": []
    },
    {
      "cell_type": "code",
      "metadata": {
        "id": "Ic1z-rx1sOr8",
        "colab_type": "code",
        "colab": {}
      },
      "source": [
        "strip[0]"
      ],
      "execution_count": 0,
      "outputs": []
    },
    {
      "cell_type": "code",
      "metadata": {
        "id": "OIDZuhx9QD9X",
        "colab_type": "code",
        "colab": {}
      },
      "source": [
        "strip.plot(legend)"
      ],
      "execution_count": 0,
      "outputs": []
    },
    {
      "cell_type": "markdown",
      "metadata": {
        "id": "omZz8U_esVcU",
        "colab_type": "text"
      },
      "source": [
        "Just plotted a simple strip log from a CSV! You can make striplogs 100 different ways, and I highly reccomend the turtorials on the github for more exploration. "
      ]
    },
    {
      "cell_type": "code",
      "metadata": {
        "id": "RSaKowW-aAOF",
        "colab_type": "code",
        "colab": {}
      },
      "source": [
        ""
      ],
      "execution_count": 0,
      "outputs": []
    },
    {
      "cell_type": "markdown",
      "metadata": {
        "id": "qX_LLr4PSj27",
        "colab_type": "text"
      },
      "source": [
        "# Closing Thoughts"
      ]
    },
    {
      "cell_type": "markdown",
      "metadata": {
        "id": "qF4CsEzYbdbF",
        "colab_type": "text"
      },
      "source": [
        "\n",
        "*   Start small, try to replicate current workflows\n",
        "*   Know that in the beginning that stuff will take longer amounts of time\n",
        "*   Try to work on a problem on your own for a little bit, but don't be afraid of asking for help on swung or stack overflow\n",
        "*   Colab is great for quick analysis and some machine learning workflows, but doing a normal install of [Anaconda](https://www.anaconda.com/) on your own machine is a good idea for more advanced analysis or specific packages. \n",
        "*   Have fun! Sometimes it can be frustrating, but a quick walk or sleeping on problems can also help\n",
        "*   Be excellent to each other\n",
        "\n",
        "*fin!*"
      ]
    },
    {
      "cell_type": "code",
      "metadata": {
        "id": "-JEcxBqIyR-C",
        "colab_type": "code",
        "colab": {}
      },
      "source": [
        ""
      ],
      "execution_count": 0,
      "outputs": []
    }
  ]
}